{
 "cells": [
  {
   "cell_type": "code",
   "execution_count": 210,
   "metadata": {},
   "outputs": [],
   "source": [
    "import pandas as pd\n",
    "import numpy as np"
   ]
  },
  {
   "cell_type": "code",
   "execution_count": 211,
   "metadata": {},
   "outputs": [],
   "source": [
    "from sklearn.impute import SimpleImputer\n",
    "from sklearn.experimental import enable_iterative_imputer\n",
    "from sklearn.impute import IterativeImputer\n",
    "from sklearn.impute import KNNImputer\n",
    "from sklearn.preprocessing import LabelEncoder"
   ]
  },
  {
   "cell_type": "code",
   "execution_count": 212,
   "metadata": {},
   "outputs": [],
   "source": [
    "#para añadir continente\n",
    "import pycountry_convert as pc"
   ]
  },
  {
   "cell_type": "code",
   "execution_count": 213,
   "metadata": {},
   "outputs": [],
   "source": [
    "# para poder visualizar todas las columnas de los DataFrames\n",
    "pd.set_option('display.max_columns', None) "
   ]
  },
  {
   "cell_type": "code",
   "execution_count": 214,
   "metadata": {},
   "outputs": [],
   "source": [
    "#Abro y creo un dataFrame con la información de los vuelos\n",
    "df_Calidad_vida = pd.read_csv('./files/Quality_of_Life.csv')"
   ]
  },
  {
   "cell_type": "code",
   "execution_count": 215,
   "metadata": {},
   "outputs": [
    {
     "data": {
      "text/html": [
       "<div>\n",
       "<style scoped>\n",
       "    .dataframe tbody tr th:only-of-type {\n",
       "        vertical-align: middle;\n",
       "    }\n",
       "\n",
       "    .dataframe tbody tr th {\n",
       "        vertical-align: top;\n",
       "    }\n",
       "\n",
       "    .dataframe thead th {\n",
       "        text-align: right;\n",
       "    }\n",
       "</style>\n",
       "<table border=\"1\" class=\"dataframe\">\n",
       "  <thead>\n",
       "    <tr style=\"text-align: right;\">\n",
       "      <th></th>\n",
       "      <th>country</th>\n",
       "      <th>Purchasing Power Value</th>\n",
       "      <th>Purchasing Power Category</th>\n",
       "      <th>Safety Value</th>\n",
       "      <th>Safety Category</th>\n",
       "      <th>Health Care Value</th>\n",
       "      <th>Health Care Category</th>\n",
       "      <th>Climate Value</th>\n",
       "      <th>Climate Category</th>\n",
       "      <th>Cost of Living Value</th>\n",
       "      <th>Cost of Living Category</th>\n",
       "      <th>Property Price to Income Value</th>\n",
       "      <th>Property Price to Income Category</th>\n",
       "      <th>Traffic Commute Time Value</th>\n",
       "      <th>Traffic Commute Time Category</th>\n",
       "      <th>Pollution Value</th>\n",
       "      <th>Pollution Category</th>\n",
       "      <th>Quality of Life Value</th>\n",
       "      <th>Quality of Life Category</th>\n",
       "    </tr>\n",
       "  </thead>\n",
       "  <tbody>\n",
       "    <tr>\n",
       "      <th>0</th>\n",
       "      <td>Afghanistan</td>\n",
       "      <td>32.15</td>\n",
       "      <td>'Very Low'</td>\n",
       "      <td>25.33</td>\n",
       "      <td>'Low'</td>\n",
       "      <td>24.24</td>\n",
       "      <td>'Low'</td>\n",
       "      <td>0.00</td>\n",
       "      <td>NaN</td>\n",
       "      <td>21.08</td>\n",
       "      <td>'Very Low'</td>\n",
       "      <td>7.8</td>\n",
       "      <td>'Low'</td>\n",
       "      <td>56.17</td>\n",
       "      <td>'Very High'</td>\n",
       "      <td>84.44</td>\n",
       "      <td>'Very High'</td>\n",
       "      <td>0.0</td>\n",
       "      <td>NaN</td>\n",
       "    </tr>\n",
       "    <tr>\n",
       "      <th>1</th>\n",
       "      <td>Aland Islands</td>\n",
       "      <td>125.01</td>\n",
       "      <td>'Very High'</td>\n",
       "      <td>71.81</td>\n",
       "      <td>'High'</td>\n",
       "      <td>79.72</td>\n",
       "      <td>'High'</td>\n",
       "      <td>0.00</td>\n",
       "      <td>NaN</td>\n",
       "      <td>53.44</td>\n",
       "      <td>'Low'</td>\n",
       "      <td>5.33</td>\n",
       "      <td>'Low'</td>\n",
       "      <td>19.05</td>\n",
       "      <td>'Very Low'</td>\n",
       "      <td>18.05</td>\n",
       "      <td>'Very Low'</td>\n",
       "      <td>0.0</td>\n",
       "      <td>NaN</td>\n",
       "    </tr>\n",
       "    <tr>\n",
       "      <th>2</th>\n",
       "      <td>Albania</td>\n",
       "      <td>42.82</td>\n",
       "      <td>'Low'</td>\n",
       "      <td>55.52</td>\n",
       "      <td>'Moderate'</td>\n",
       "      <td>48.21</td>\n",
       "      <td>'Moderate'</td>\n",
       "      <td>86.43</td>\n",
       "      <td>'Very High'</td>\n",
       "      <td>40.85</td>\n",
       "      <td>'Low'</td>\n",
       "      <td>14.88</td>\n",
       "      <td>'High'</td>\n",
       "      <td>36.74</td>\n",
       "      <td>'Moderate'</td>\n",
       "      <td>77.25</td>\n",
       "      <td>'High'</td>\n",
       "      <td>': 104.16'</td>\n",
       "      <td>'Low'</td>\n",
       "    </tr>\n",
       "    <tr>\n",
       "      <th>3</th>\n",
       "      <td>Alderney</td>\n",
       "      <td>0.00</td>\n",
       "      <td>NaN</td>\n",
       "      <td>83.79</td>\n",
       "      <td>'Very High'</td>\n",
       "      <td>100.00</td>\n",
       "      <td>'Very High'</td>\n",
       "      <td>0.00</td>\n",
       "      <td>NaN</td>\n",
       "      <td>0.00</td>\n",
       "      <td>NaN</td>\n",
       "      <td>0.0</td>\n",
       "      <td>NaN</td>\n",
       "      <td>5.00</td>\n",
       "      <td>'Very Low'</td>\n",
       "      <td>1.72</td>\n",
       "      <td>'Very Low'</td>\n",
       "      <td>0.0</td>\n",
       "      <td>NaN</td>\n",
       "    </tr>\n",
       "    <tr>\n",
       "      <th>4</th>\n",
       "      <td>Algeria</td>\n",
       "      <td>27.60</td>\n",
       "      <td>'Very Low'</td>\n",
       "      <td>47.54</td>\n",
       "      <td>'Moderate'</td>\n",
       "      <td>54.43</td>\n",
       "      <td>'Moderate'</td>\n",
       "      <td>94.82</td>\n",
       "      <td>'Very High'</td>\n",
       "      <td>25.31</td>\n",
       "      <td>'Very Low'</td>\n",
       "      <td>21.7</td>\n",
       "      <td>'Very High'</td>\n",
       "      <td>45.09</td>\n",
       "      <td>'High'</td>\n",
       "      <td>63.87</td>\n",
       "      <td>'High'</td>\n",
       "      <td>': 98.83'</td>\n",
       "      <td>'Very Low'</td>\n",
       "    </tr>\n",
       "  </tbody>\n",
       "</table>\n",
       "</div>"
      ],
      "text/plain": [
       "         country  Purchasing Power Value Purchasing Power Category  \\\n",
       "0    Afghanistan                   32.15                'Very Low'   \n",
       "1  Aland Islands                  125.01               'Very High'   \n",
       "2        Albania                   42.82                     'Low'   \n",
       "3       Alderney                    0.00                       NaN   \n",
       "4        Algeria                   27.60                'Very Low'   \n",
       "\n",
       "   Safety Value Safety Category  Health Care Value Health Care Category  \\\n",
       "0         25.33           'Low'              24.24                'Low'   \n",
       "1         71.81          'High'              79.72               'High'   \n",
       "2         55.52      'Moderate'              48.21           'Moderate'   \n",
       "3         83.79     'Very High'             100.00          'Very High'   \n",
       "4         47.54      'Moderate'              54.43           'Moderate'   \n",
       "\n",
       "   Climate Value Climate Category  Cost of Living Value  \\\n",
       "0           0.00              NaN                 21.08   \n",
       "1           0.00              NaN                 53.44   \n",
       "2          86.43      'Very High'                 40.85   \n",
       "3           0.00              NaN                  0.00   \n",
       "4          94.82      'Very High'                 25.31   \n",
       "\n",
       "  Cost of Living Category Property Price to Income Value  \\\n",
       "0              'Very Low'                            7.8   \n",
       "1                   'Low'                           5.33   \n",
       "2                   'Low'                          14.88   \n",
       "3                     NaN                            0.0   \n",
       "4              'Very Low'                           21.7   \n",
       "\n",
       "  Property Price to Income Category  Traffic Commute Time Value  \\\n",
       "0                             'Low'                       56.17   \n",
       "1                             'Low'                       19.05   \n",
       "2                            'High'                       36.74   \n",
       "3                               NaN                        5.00   \n",
       "4                       'Very High'                       45.09   \n",
       "\n",
       "  Traffic Commute Time Category  Pollution Value Pollution Category  \\\n",
       "0                   'Very High'            84.44        'Very High'   \n",
       "1                    'Very Low'            18.05         'Very Low'   \n",
       "2                    'Moderate'            77.25             'High'   \n",
       "3                    'Very Low'             1.72         'Very Low'   \n",
       "4                        'High'            63.87             'High'   \n",
       "\n",
       "  Quality of Life Value Quality of Life Category  \n",
       "0                   0.0                      NaN  \n",
       "1                   0.0                      NaN  \n",
       "2            ': 104.16'                    'Low'  \n",
       "3                   0.0                      NaN  \n",
       "4             ': 98.83'               'Very Low'  "
      ]
     },
     "execution_count": 215,
     "metadata": {},
     "output_type": "execute_result"
    }
   ],
   "source": [
    "df_Calidad_vida.head()"
   ]
  },
  {
   "cell_type": "code",
   "execution_count": 216,
   "metadata": {},
   "outputs": [
    {
     "data": {
      "text/html": [
       "<div>\n",
       "<style scoped>\n",
       "    .dataframe tbody tr th:only-of-type {\n",
       "        vertical-align: middle;\n",
       "    }\n",
       "\n",
       "    .dataframe tbody tr th {\n",
       "        vertical-align: top;\n",
       "    }\n",
       "\n",
       "    .dataframe thead th {\n",
       "        text-align: right;\n",
       "    }\n",
       "</style>\n",
       "<table border=\"1\" class=\"dataframe\">\n",
       "  <thead>\n",
       "    <tr style=\"text-align: right;\">\n",
       "      <th></th>\n",
       "      <th>country</th>\n",
       "      <th>Purchasing Power Value</th>\n",
       "      <th>Purchasing Power Category</th>\n",
       "      <th>Safety Value</th>\n",
       "      <th>Safety Category</th>\n",
       "      <th>Health Care Value</th>\n",
       "      <th>Health Care Category</th>\n",
       "      <th>Climate Value</th>\n",
       "      <th>Climate Category</th>\n",
       "      <th>Cost of Living Value</th>\n",
       "      <th>Cost of Living Category</th>\n",
       "      <th>Property Price to Income Value</th>\n",
       "      <th>Property Price to Income Category</th>\n",
       "      <th>Traffic Commute Time Value</th>\n",
       "      <th>Traffic Commute Time Category</th>\n",
       "      <th>Pollution Value</th>\n",
       "      <th>Pollution Category</th>\n",
       "      <th>Quality of Life Value</th>\n",
       "      <th>Quality of Life Category</th>\n",
       "    </tr>\n",
       "  </thead>\n",
       "  <tbody>\n",
       "    <tr>\n",
       "      <th>199</th>\n",
       "      <td>Spain</td>\n",
       "      <td>101.41</td>\n",
       "      <td>'High'</td>\n",
       "      <td>63.51</td>\n",
       "      <td>'High'</td>\n",
       "      <td>77.26</td>\n",
       "      <td>'High'</td>\n",
       "      <td>94.04</td>\n",
       "      <td>'Very High'</td>\n",
       "      <td>44.41</td>\n",
       "      <td>'Low'</td>\n",
       "      <td>8.28</td>\n",
       "      <td>'Moderate'</td>\n",
       "      <td>26.76</td>\n",
       "      <td>'Very Low'</td>\n",
       "      <td>35.7</td>\n",
       "      <td>'Low'</td>\n",
       "      <td>': 184.67'</td>\n",
       "      <td>'Very High'</td>\n",
       "    </tr>\n",
       "  </tbody>\n",
       "</table>\n",
       "</div>"
      ],
      "text/plain": [
       "    country  Purchasing Power Value Purchasing Power Category  Safety Value  \\\n",
       "199   Spain                  101.41                    'High'         63.51   \n",
       "\n",
       "    Safety Category  Health Care Value Health Care Category  Climate Value  \\\n",
       "199          'High'              77.26               'High'          94.04   \n",
       "\n",
       "    Climate Category  Cost of Living Value Cost of Living Category  \\\n",
       "199      'Very High'                 44.41                   'Low'   \n",
       "\n",
       "    Property Price to Income Value Property Price to Income Category  \\\n",
       "199                           8.28                        'Moderate'   \n",
       "\n",
       "     Traffic Commute Time Value Traffic Commute Time Category  \\\n",
       "199                       26.76                    'Very Low'   \n",
       "\n",
       "     Pollution Value Pollution Category Quality of Life Value  \\\n",
       "199             35.7              'Low'            ': 184.67'   \n",
       "\n",
       "    Quality of Life Category  \n",
       "199              'Very High'  "
      ]
     },
     "execution_count": 216,
     "metadata": {},
     "output_type": "execute_result"
    }
   ],
   "source": [
    "df_spain = df_Calidad_vida[df_Calidad_vida[\"country\"] == \"Spain\"]\n",
    "df_spain"
   ]
  },
  {
   "cell_type": "code",
   "execution_count": 217,
   "metadata": {},
   "outputs": [
    {
     "name": "stdout",
     "output_type": "stream",
     "text": [
      "<class 'pandas.core.frame.DataFrame'>\n",
      "RangeIndex: 236 entries, 0 to 235\n",
      "Data columns (total 19 columns):\n",
      " #   Column                             Non-Null Count  Dtype  \n",
      "---  ------                             --------------  -----  \n",
      " 0   country                            236 non-null    object \n",
      " 1   Purchasing Power Value             236 non-null    float64\n",
      " 2   Purchasing Power Category          190 non-null    object \n",
      " 3   Safety Value                       236 non-null    float64\n",
      " 4   Safety Category                    234 non-null    object \n",
      " 5   Health Care Value                  236 non-null    float64\n",
      " 6   Health Care Category               221 non-null    object \n",
      " 7   Climate Value                      236 non-null    float64\n",
      " 8   Climate Category                   114 non-null    object \n",
      " 9   Cost of Living Value               236 non-null    float64\n",
      " 10  Cost of Living Category            191 non-null    object \n",
      " 11  Property Price to Income Value     236 non-null    object \n",
      " 12  Property Price to Income Category  215 non-null    object \n",
      " 13  Traffic Commute Time Value         236 non-null    float64\n",
      " 14  Traffic Commute Time Category      207 non-null    object \n",
      " 15  Pollution Value                    236 non-null    float64\n",
      " 16  Pollution Category                 226 non-null    object \n",
      " 17  Quality of Life Value              236 non-null    object \n",
      " 18  Quality of Life Category           114 non-null    object \n",
      "dtypes: float64(7), object(12)\n",
      "memory usage: 35.2+ KB\n"
     ]
    }
   ],
   "source": [
    "df_Calidad_vida.info()"
   ]
  },
  {
   "cell_type": "code",
   "execution_count": 218,
   "metadata": {},
   "outputs": [
    {
     "data": {
      "text/plain": [
       "country                                0\n",
       "Purchasing Power Value                 0\n",
       "Purchasing Power Category             46\n",
       "Safety Value                           0\n",
       "Safety Category                        2\n",
       "Health Care Value                      0\n",
       "Health Care Category                  15\n",
       "Climate Value                          0\n",
       "Climate Category                     122\n",
       "Cost of Living Value                   0\n",
       "Cost of Living Category               45\n",
       "Property Price to Income Value         0\n",
       "Property Price to Income Category     21\n",
       "Traffic Commute Time Value             0\n",
       "Traffic Commute Time Category         29\n",
       "Pollution Value                        0\n",
       "Pollution Category                    10\n",
       "Quality of Life Value                  0\n",
       "Quality of Life Category             122\n",
       "dtype: int64"
      ]
     },
     "execution_count": 218,
     "metadata": {},
     "output_type": "execute_result"
    }
   ],
   "source": [
    "df_Calidad_vida.isnull().sum()\n"
   ]
  },
  {
   "cell_type": "code",
   "execution_count": 219,
   "metadata": {},
   "outputs": [
    {
     "data": {
      "text/plain": [
       "country                               0.000000\n",
       "Purchasing Power Value                0.000000\n",
       "Purchasing Power Category            19.491525\n",
       "Safety Value                          0.000000\n",
       "Safety Category                       0.847458\n",
       "Health Care Value                     0.000000\n",
       "Health Care Category                  6.355932\n",
       "Climate Value                         0.000000\n",
       "Climate Category                     51.694915\n",
       "Cost of Living Value                  0.000000\n",
       "Cost of Living Category              19.067797\n",
       "Property Price to Income Value        0.000000\n",
       "Property Price to Income Category     8.898305\n",
       "Traffic Commute Time Value            0.000000\n",
       "Traffic Commute Time Category        12.288136\n",
       "Pollution Value                       0.000000\n",
       "Pollution Category                    4.237288\n",
       "Quality of Life Value                 0.000000\n",
       "Quality of Life Category             51.694915\n",
       "dtype: float64"
      ]
     },
     "execution_count": 219,
     "metadata": {},
     "output_type": "execute_result"
    }
   ],
   "source": [
    "nulos = df_Calidad_vida.isnull().sum()\n",
    "porcentaje_nulos = (nulos / df_Calidad_vida.shape[0]) * 100\n",
    "porcentaje_nulos"
   ]
  },
  {
   "cell_type": "code",
   "execution_count": 220,
   "metadata": {},
   "outputs": [
    {
     "name": "stdout",
     "output_type": "stream",
     "text": [
      "<class 'pandas.core.frame.DataFrame'>\n",
      "RangeIndex: 236 entries, 0 to 235\n",
      "Data columns (total 19 columns):\n",
      " #   Column                             Non-Null Count  Dtype  \n",
      "---  ------                             --------------  -----  \n",
      " 0   country                            236 non-null    object \n",
      " 1   Purchasing Power Value             236 non-null    float64\n",
      " 2   Purchasing Power Category          190 non-null    object \n",
      " 3   Safety Value                       236 non-null    float64\n",
      " 4   Safety Category                    234 non-null    object \n",
      " 5   Health Care Value                  236 non-null    float64\n",
      " 6   Health Care Category               221 non-null    object \n",
      " 7   Climate Value                      236 non-null    float64\n",
      " 8   Climate Category                   114 non-null    object \n",
      " 9   Cost of Living Value               236 non-null    float64\n",
      " 10  Cost of Living Category            191 non-null    object \n",
      " 11  Property Price to Income Value     236 non-null    object \n",
      " 12  Property Price to Income Category  215 non-null    object \n",
      " 13  Traffic Commute Time Value         236 non-null    float64\n",
      " 14  Traffic Commute Time Category      207 non-null    object \n",
      " 15  Pollution Value                    236 non-null    float64\n",
      " 16  Pollution Category                 226 non-null    object \n",
      " 17  Quality of Life Value              236 non-null    object \n",
      " 18  Quality of Life Category           114 non-null    object \n",
      "dtypes: float64(7), object(12)\n",
      "memory usage: 35.2+ KB\n"
     ]
    }
   ],
   "source": [
    "df_Calidad_vida.info()"
   ]
  },
  {
   "cell_type": "markdown",
   "metadata": {},
   "source": [
    "Purchasing Power Category  categorico - moda\n",
    "Safety Category categorico - moda\n",
    "Health Care Category  categorico - moda\n",
    "Climate Category categorico - moda\n",
    "Cost of Living Category  categorico - moda\n",
    "Property Price to Income Category categorico - moda\n",
    "Traffic Commute Time Category categorico - moda\n",
    "Pollution Category categorico - moda\n",
    "Quality of Life Category categorico - moda"
   ]
  },
  {
   "cell_type": "code",
   "execution_count": 221,
   "metadata": {},
   "outputs": [],
   "source": [
    "columnas_object_con_nulos = df_Calidad_vida[df_Calidad_vida.columns[df_Calidad_vida.isnull().any()]].select_dtypes(include = \"O\").columns"
   ]
  },
  {
   "cell_type": "code",
   "execution_count": 222,
   "metadata": {},
   "outputs": [
    {
     "data": {
      "text/plain": [
       "Index(['Purchasing Power Category', 'Safety Category', 'Health Care Category',\n",
       "       'Climate Category', 'Cost of Living Category',\n",
       "       'Property Price to Income Category', 'Traffic Commute Time Category',\n",
       "       'Pollution Category', 'Quality of Life Category'],\n",
       "      dtype='object')"
      ]
     },
     "execution_count": 222,
     "metadata": {},
     "output_type": "execute_result"
    }
   ],
   "source": [
    "columnas_object_con_nulos"
   ]
  },
  {
   "cell_type": "code",
   "execution_count": 223,
   "metadata": {},
   "outputs": [
    {
     "name": "stdout",
     "output_type": "stream",
     "text": [
      "La distribución de las categorías (incluyendo nulos) para la columna Purchasing Power Category\n"
     ]
    },
    {
     "data": {
      "text/plain": [
       "Purchasing Power Category\n",
       "'Very Low'     26.694915\n",
       "'Low'          19.491525\n",
       "NaN            19.491525\n",
       "'Very High'    16.525424\n",
       "'Moderate'      8.898305\n",
       "'High'          8.898305\n",
       "Name: proportion, dtype: float64"
      ]
     },
     "metadata": {},
     "output_type": "display_data"
    },
    {
     "name": "stdout",
     "output_type": "stream",
     "text": [
      "........................\n",
      "La distribución de las categorías (incluyendo nulos) para la columna Safety Category\n"
     ]
    },
    {
     "data": {
      "text/plain": [
       "Safety Category\n",
       "'Moderate'     42.372881\n",
       "'High'         30.932203\n",
       "'Low'          17.372881\n",
       "'Very High'     6.355932\n",
       "'Very Low'      2.118644\n",
       "NaN             0.847458\n",
       "Name: proportion, dtype: float64"
      ]
     },
     "metadata": {},
     "output_type": "display_data"
    },
    {
     "name": "stdout",
     "output_type": "stream",
     "text": [
      "........................\n",
      "La distribución de las categorías (incluyendo nulos) para la columna Health Care Category\n"
     ]
    },
    {
     "data": {
      "text/plain": [
       "Health Care Category\n",
       "'High'         39.406780\n",
       "'Moderate'     38.559322\n",
       "'Low'          11.016949\n",
       "NaN             6.355932\n",
       "'Very High'     4.237288\n",
       "'Very Low'      0.423729\n",
       "Name: proportion, dtype: float64"
      ]
     },
     "metadata": {},
     "output_type": "display_data"
    },
    {
     "name": "stdout",
     "output_type": "stream",
     "text": [
      "........................\n",
      "La distribución de las categorías (incluyendo nulos) para la columna Climate Category\n"
     ]
    },
    {
     "data": {
      "text/plain": [
       "Climate Category\n",
       "NaN            51.694915\n",
       "'Very High'    24.576271\n",
       "'High'         17.372881\n",
       "'Moderate'      5.932203\n",
       "'Low'           0.423729\n",
       "Name: proportion, dtype: float64"
      ]
     },
     "metadata": {},
     "output_type": "display_data"
    },
    {
     "name": "stdout",
     "output_type": "stream",
     "text": [
      "........................\n",
      "La distribución de las categorías (incluyendo nulos) para la columna Cost of Living Category\n"
     ]
    },
    {
     "data": {
      "text/plain": [
       "Cost of Living Category\n",
       "'Very Low'     37.288136\n",
       "'Low'          27.966102\n",
       "NaN            19.067797\n",
       "'Moderate'      8.050847\n",
       "'High'          4.237288\n",
       "'Very High'     3.389831\n",
       "Name: proportion, dtype: float64"
      ]
     },
     "metadata": {},
     "output_type": "display_data"
    },
    {
     "name": "stdout",
     "output_type": "stream",
     "text": [
      "........................\n",
      "La distribución de las categorías (incluyendo nulos) para la columna Property Price to Income Category\n"
     ]
    },
    {
     "data": {
      "text/plain": [
       "Property Price to Income Category\n",
       "'Very High'    31.355932\n",
       "'High'         17.796610\n",
       "'Moderate'     17.796610\n",
       "'Low'          12.711864\n",
       "'Very Low'     11.440678\n",
       "NaN             8.898305\n",
       "Name: proportion, dtype: float64"
      ]
     },
     "metadata": {},
     "output_type": "display_data"
    },
    {
     "name": "stdout",
     "output_type": "stream",
     "text": [
      "........................\n",
      "La distribución de las categorías (incluyendo nulos) para la columna Traffic Commute Time Category\n"
     ]
    },
    {
     "data": {
      "text/plain": [
       "Traffic Commute Time Category\n",
       "'Very Low'     26.271186\n",
       "'Low'          24.576271\n",
       "'Moderate'     18.644068\n",
       "'High'         13.559322\n",
       "NaN            12.288136\n",
       "'Very High'     4.661017\n",
       "Name: proportion, dtype: float64"
      ]
     },
     "metadata": {},
     "output_type": "display_data"
    },
    {
     "name": "stdout",
     "output_type": "stream",
     "text": [
      "........................\n",
      "La distribución de las categorías (incluyendo nulos) para la columna Pollution Category\n"
     ]
    },
    {
     "data": {
      "text/plain": [
       "Pollution Category\n",
       "'High'         35.593220\n",
       "'Moderate'     20.762712\n",
       "'Low'          16.949153\n",
       "'Very High'    13.983051\n",
       "'Very Low'      8.474576\n",
       "NaN             4.237288\n",
       "Name: proportion, dtype: float64"
      ]
     },
     "metadata": {},
     "output_type": "display_data"
    },
    {
     "name": "stdout",
     "output_type": "stream",
     "text": [
      "........................\n",
      "La distribución de las categorías (incluyendo nulos) para la columna Quality of Life Category\n"
     ]
    },
    {
     "data": {
      "text/plain": [
       "Quality of Life Category\n",
       "NaN            51.694915\n",
       "'Very High'    13.983051\n",
       "'Very Low'     11.016949\n",
       "'Moderate'     10.593220\n",
       "'Low'           8.050847\n",
       "'High'          4.661017\n",
       "Name: proportion, dtype: float64"
      ]
     },
     "metadata": {},
     "output_type": "display_data"
    },
    {
     "name": "stdout",
     "output_type": "stream",
     "text": [
      "........................\n",
      "La distribución de las categorías (incluyendo nulos) para la columna Purchasing Power Category\n"
     ]
    },
    {
     "data": {
      "text/plain": [
       "Purchasing Power Category\n",
       "'Very Low'     26.694915\n",
       "'Low'          19.491525\n",
       "NaN            19.491525\n",
       "'Very High'    16.525424\n",
       "'Moderate'      8.898305\n",
       "'High'          8.898305\n",
       "Name: proportion, dtype: float64"
      ]
     },
     "metadata": {},
     "output_type": "display_data"
    },
    {
     "name": "stdout",
     "output_type": "stream",
     "text": [
      "........................\n",
      "La distribución de las categorías (incluyendo nulos) para la columna Safety Category\n"
     ]
    },
    {
     "data": {
      "text/plain": [
       "Safety Category\n",
       "'Moderate'     42.372881\n",
       "'High'         30.932203\n",
       "'Low'          17.372881\n",
       "'Very High'     6.355932\n",
       "'Very Low'      2.118644\n",
       "NaN             0.847458\n",
       "Name: proportion, dtype: float64"
      ]
     },
     "metadata": {},
     "output_type": "display_data"
    },
    {
     "name": "stdout",
     "output_type": "stream",
     "text": [
      "........................\n",
      "La distribución de las categorías (incluyendo nulos) para la columna Health Care Category\n"
     ]
    },
    {
     "data": {
      "text/plain": [
       "Health Care Category\n",
       "'High'         39.406780\n",
       "'Moderate'     38.559322\n",
       "'Low'          11.016949\n",
       "NaN             6.355932\n",
       "'Very High'     4.237288\n",
       "'Very Low'      0.423729\n",
       "Name: proportion, dtype: float64"
      ]
     },
     "metadata": {},
     "output_type": "display_data"
    },
    {
     "name": "stdout",
     "output_type": "stream",
     "text": [
      "........................\n",
      "La distribución de las categorías (incluyendo nulos) para la columna Climate Category\n"
     ]
    },
    {
     "data": {
      "text/plain": [
       "Climate Category\n",
       "NaN            51.694915\n",
       "'Very High'    24.576271\n",
       "'High'         17.372881\n",
       "'Moderate'      5.932203\n",
       "'Low'           0.423729\n",
       "Name: proportion, dtype: float64"
      ]
     },
     "metadata": {},
     "output_type": "display_data"
    },
    {
     "name": "stdout",
     "output_type": "stream",
     "text": [
      "........................\n",
      "La distribución de las categorías (incluyendo nulos) para la columna Cost of Living Category\n"
     ]
    },
    {
     "data": {
      "text/plain": [
       "Cost of Living Category\n",
       "'Very Low'     37.288136\n",
       "'Low'          27.966102\n",
       "NaN            19.067797\n",
       "'Moderate'      8.050847\n",
       "'High'          4.237288\n",
       "'Very High'     3.389831\n",
       "Name: proportion, dtype: float64"
      ]
     },
     "metadata": {},
     "output_type": "display_data"
    },
    {
     "name": "stdout",
     "output_type": "stream",
     "text": [
      "........................\n",
      "La distribución de las categorías (incluyendo nulos) para la columna Property Price to Income Category\n"
     ]
    },
    {
     "data": {
      "text/plain": [
       "Property Price to Income Category\n",
       "'Very High'    31.355932\n",
       "'High'         17.796610\n",
       "'Moderate'     17.796610\n",
       "'Low'          12.711864\n",
       "'Very Low'     11.440678\n",
       "NaN             8.898305\n",
       "Name: proportion, dtype: float64"
      ]
     },
     "metadata": {},
     "output_type": "display_data"
    },
    {
     "name": "stdout",
     "output_type": "stream",
     "text": [
      "........................\n",
      "La distribución de las categorías (incluyendo nulos) para la columna Traffic Commute Time Category\n"
     ]
    },
    {
     "data": {
      "text/plain": [
       "Traffic Commute Time Category\n",
       "'Very Low'     26.271186\n",
       "'Low'          24.576271\n",
       "'Moderate'     18.644068\n",
       "'High'         13.559322\n",
       "NaN            12.288136\n",
       "'Very High'     4.661017\n",
       "Name: proportion, dtype: float64"
      ]
     },
     "metadata": {},
     "output_type": "display_data"
    },
    {
     "name": "stdout",
     "output_type": "stream",
     "text": [
      "........................\n",
      "La distribución de las categorías (incluyendo nulos) para la columna Pollution Category\n"
     ]
    },
    {
     "data": {
      "text/plain": [
       "Pollution Category\n",
       "'High'         35.593220\n",
       "'Moderate'     20.762712\n",
       "'Low'          16.949153\n",
       "'Very High'    13.983051\n",
       "'Very Low'      8.474576\n",
       "NaN             4.237288\n",
       "Name: proportion, dtype: float64"
      ]
     },
     "metadata": {},
     "output_type": "display_data"
    },
    {
     "name": "stdout",
     "output_type": "stream",
     "text": [
      "........................\n",
      "La distribución de las categorías (incluyendo nulos) para la columna Quality of Life Category\n"
     ]
    },
    {
     "data": {
      "text/plain": [
       "Quality of Life Category\n",
       "NaN            51.694915\n",
       "'Very High'    13.983051\n",
       "'Very Low'     11.016949\n",
       "'Moderate'     10.593220\n",
       "'Low'           8.050847\n",
       "'High'          4.661017\n",
       "Name: proportion, dtype: float64"
      ]
     },
     "metadata": {},
     "output_type": "display_data"
    },
    {
     "name": "stdout",
     "output_type": "stream",
     "text": [
      "........................\n"
     ]
    }
   ],
   "source": [
    "for col in columnas_object_con_nulos:\n",
    "    print(f\"La distribución de las categorías (incluyendo nulos) para la columna\", col)\n",
    "    display(df_Calidad_vida[col].value_counts(dropna=False, normalize=True) * 100)  # Convertimos a porcentaje\n",
    "    print(\"........................\")\n",
    "for col in columnas_object_con_nulos:\n",
    "    print(f\"La distribución de las categorías (incluyendo nulos) para la columna\", col)\n",
    "    display(df_Calidad_vida[col].value_counts(dropna=False, normalize=True) * 100)  # Convertimos a porcentaje\n",
    "    print(\"........................\")"
   ]
  },
  {
   "cell_type": "code",
   "execution_count": 224,
   "metadata": {},
   "outputs": [
    {
     "data": {
      "text/plain": [
       "array([nan, \"'Very High'\", \"'High'\", \"'Moderate'\", \"'Low'\"], dtype=object)"
      ]
     },
     "execution_count": 224,
     "metadata": {},
     "output_type": "execute_result"
    }
   ],
   "source": [
    "df_Calidad_vida[\"Climate Category\"].unique()"
   ]
  },
  {
   "cell_type": "code",
   "execution_count": 225,
   "metadata": {},
   "outputs": [
    {
     "data": {
      "text/plain": [
       "array([ 0.  , 86.43, 94.82, 98.28, 63.42, 93.8 , 77.4 , 91.4 , 64.31,\n",
       "       71.29, 64.37, 86.03, 80.48, 88.87, 94.31, 82.76, 59.43, 55.41,\n",
       "       90.21, 79.61, 96.69, 99.48, 89.23, 90.87, 79.1 , 82.47, 67.82,\n",
       "       94.51, 91.98, 86.6 , 64.28, 96.82, 71.89, 58.87, 89.71, 88.53,\n",
       "       83.3 , 67.03, 91.79, 99.89, 83.64, 78.74, 68.81, 64.1 , 63.76,\n",
       "       70.99, 46.98, 87.83, 93.78, 90.78, 71.58, 85.26, 89.05, 39.78,\n",
       "       99.79, 76.84, 20.22, 58.11, 74.7 , 94.74, 96.54, 67.76, 82.62,\n",
       "       81.7 , 56.55, 97.44, 87.51, 76.91, -3.54, 89.02, 86.09, 92.64,\n",
       "       87.42, 95.46, 60.75, 76.3 , 68.5 , 67.22, 71.93, 67.84, 92.24,\n",
       "       97.69, 61.23, 75.9 , 97.31, 36.03, 77.  , 43.6 , 99.74, 45.98,\n",
       "       83.23, 57.45, 80.72, 76.11, 95.25, 68.39, 94.04, 59.11, 76.49,\n",
       "       79.24, 84.38, 71.28, 69.76, 67.55, 93.24, 93.26, 98.41, 70.69,\n",
       "       45.84, 87.41, 79.14, 98.04, 69.79, 71.24, 96.76])"
      ]
     },
     "execution_count": 225,
     "metadata": {},
     "output_type": "execute_result"
    }
   ],
   "source": [
    "df_Calidad_vida[\"Climate Value\"].unique()"
   ]
  },
  {
   "cell_type": "code",
   "execution_count": 226,
   "metadata": {},
   "outputs": [
    {
     "data": {
      "text/plain": [
       "Climate Value\n",
       "0.00     122\n",
       "77.00      1\n",
       "97.31      1\n",
       "75.90      1\n",
       "61.23      1\n",
       "        ... \n",
       "89.71      1\n",
       "58.87      1\n",
       "71.89      1\n",
       "96.82      1\n",
       "96.76      1\n",
       "Name: count, Length: 115, dtype: int64"
      ]
     },
     "execution_count": 226,
     "metadata": {},
     "output_type": "execute_result"
    }
   ],
   "source": [
    "df_Calidad_vida[\"Climate Value\"].value_counts()"
   ]
  },
  {
   "cell_type": "markdown",
   "metadata": {},
   "source": [
    "columnas a rellenar con \"Unknown\":\n",
    "Purchasing Power Category            19.491525\n",
    "Climate Category                     51.694915\n",
    "Cost of Living Category              19.067797\n",
    "Traffic Commute Time Category        12.288136\n",
    "Quality of Life Category             51.694915\n",
    "\n",
    "Columnas a rellenar con \"moda\"\n",
    "Safety Category                       0.847458\n",
    "Health Care Category                  6.355932\n",
    "Property Price to Income Category     8.898305\n",
    "Pollution Category                    4.237288"
   ]
  },
  {
   "cell_type": "code",
   "execution_count": 227,
   "metadata": {},
   "outputs": [],
   "source": [
    "columnas_modificar_NAN = [\"Purchasing Power Category\", \"Climate Category\", \"Cost of Living Category\", \"Traffic Commute Time Category\", \"Quality of Life Category\"]\n",
    "\n",
    "df_Calidad_vida[columnas_modificar_NAN] = df_Calidad_vida[columnas_modificar_NAN].fillna(\"Unknown\")\n"
   ]
  },
  {
   "cell_type": "code",
   "execution_count": 228,
   "metadata": {},
   "outputs": [
    {
     "data": {
      "text/plain": [
       "country                               0\n",
       "Purchasing Power Value                0\n",
       "Purchasing Power Category             0\n",
       "Safety Value                          0\n",
       "Safety Category                       2\n",
       "Health Care Value                     0\n",
       "Health Care Category                 15\n",
       "Climate Value                         0\n",
       "Climate Category                      0\n",
       "Cost of Living Value                  0\n",
       "Cost of Living Category               0\n",
       "Property Price to Income Value        0\n",
       "Property Price to Income Category    21\n",
       "Traffic Commute Time Value            0\n",
       "Traffic Commute Time Category         0\n",
       "Pollution Value                       0\n",
       "Pollution Category                   10\n",
       "Quality of Life Value                 0\n",
       "Quality of Life Category              0\n",
       "dtype: int64"
      ]
     },
     "execution_count": 228,
     "metadata": {},
     "output_type": "execute_result"
    }
   ],
   "source": [
    "df_Calidad_vida.isnull().sum()"
   ]
  },
  {
   "cell_type": "code",
   "execution_count": 229,
   "metadata": {},
   "outputs": [],
   "source": [
    "columnas_modificar_moda = [\"Safety Category\",\"Health Care Category\",\"Property Price to Income Category\",\"Pollution Category\"]\n",
    "for col in columnas_modificar_moda:\n",
    "    moda = df_Calidad_vida[col].mode()[0]  # Obtener la moda (primer valor en caso de empate)\n",
    "    df_Calidad_vida[col] = df_Calidad_vida[col].fillna(moda)"
   ]
  },
  {
   "cell_type": "code",
   "execution_count": 230,
   "metadata": {},
   "outputs": [
    {
     "data": {
      "text/plain": [
       "country                              0\n",
       "Purchasing Power Value               0\n",
       "Purchasing Power Category            0\n",
       "Safety Value                         0\n",
       "Safety Category                      0\n",
       "Health Care Value                    0\n",
       "Health Care Category                 0\n",
       "Climate Value                        0\n",
       "Climate Category                     0\n",
       "Cost of Living Value                 0\n",
       "Cost of Living Category              0\n",
       "Property Price to Income Value       0\n",
       "Property Price to Income Category    0\n",
       "Traffic Commute Time Value           0\n",
       "Traffic Commute Time Category        0\n",
       "Pollution Value                      0\n",
       "Pollution Category                   0\n",
       "Quality of Life Value                0\n",
       "Quality of Life Category             0\n",
       "dtype: int64"
      ]
     },
     "execution_count": 230,
     "metadata": {},
     "output_type": "execute_result"
    }
   ],
   "source": [
    "df_Calidad_vida.isnull().sum()"
   ]
  },
  {
   "cell_type": "code",
   "execution_count": 231,
   "metadata": {},
   "outputs": [
    {
     "data": {
      "text/html": [
       "<div>\n",
       "<style scoped>\n",
       "    .dataframe tbody tr th:only-of-type {\n",
       "        vertical-align: middle;\n",
       "    }\n",
       "\n",
       "    .dataframe tbody tr th {\n",
       "        vertical-align: top;\n",
       "    }\n",
       "\n",
       "    .dataframe thead th {\n",
       "        text-align: right;\n",
       "    }\n",
       "</style>\n",
       "<table border=\"1\" class=\"dataframe\">\n",
       "  <thead>\n",
       "    <tr style=\"text-align: right;\">\n",
       "      <th></th>\n",
       "      <th>Purchasing Power Value</th>\n",
       "      <th>Safety Value</th>\n",
       "      <th>Health Care Value</th>\n",
       "      <th>Climate Value</th>\n",
       "      <th>Cost of Living Value</th>\n",
       "      <th>Traffic Commute Time Value</th>\n",
       "      <th>Pollution Value</th>\n",
       "    </tr>\n",
       "  </thead>\n",
       "  <tbody>\n",
       "    <tr>\n",
       "      <th>count</th>\n",
       "      <td>236.000000</td>\n",
       "      <td>236.000000</td>\n",
       "      <td>236.000000</td>\n",
       "      <td>236.000000</td>\n",
       "      <td>236.000000</td>\n",
       "      <td>236.000000</td>\n",
       "      <td>236.000000</td>\n",
       "    </tr>\n",
       "    <tr>\n",
       "      <th>mean</th>\n",
       "      <td>55.573305</td>\n",
       "      <td>55.274449</td>\n",
       "      <td>54.731568</td>\n",
       "      <td>37.598178</td>\n",
       "      <td>37.526314</td>\n",
       "      <td>28.492966</td>\n",
       "      <td>54.266186</td>\n",
       "    </tr>\n",
       "    <tr>\n",
       "      <th>std</th>\n",
       "      <td>52.008245</td>\n",
       "      <td>16.914298</td>\n",
       "      <td>20.607381</td>\n",
       "      <td>40.851542</td>\n",
       "      <td>26.026565</td>\n",
       "      <td>17.347242</td>\n",
       "      <td>25.853695</td>\n",
       "    </tr>\n",
       "    <tr>\n",
       "      <th>min</th>\n",
       "      <td>0.000000</td>\n",
       "      <td>0.000000</td>\n",
       "      <td>0.000000</td>\n",
       "      <td>-3.540000</td>\n",
       "      <td>0.000000</td>\n",
       "      <td>0.000000</td>\n",
       "      <td>0.000000</td>\n",
       "    </tr>\n",
       "    <tr>\n",
       "      <th>25%</th>\n",
       "      <td>16.340000</td>\n",
       "      <td>43.857500</td>\n",
       "      <td>45.807500</td>\n",
       "      <td>0.000000</td>\n",
       "      <td>24.550000</td>\n",
       "      <td>17.100000</td>\n",
       "      <td>35.700000</td>\n",
       "    </tr>\n",
       "    <tr>\n",
       "      <th>50%</th>\n",
       "      <td>42.930000</td>\n",
       "      <td>54.635000</td>\n",
       "      <td>57.150000</td>\n",
       "      <td>0.000000</td>\n",
       "      <td>36.895000</td>\n",
       "      <td>29.845000</td>\n",
       "      <td>59.765000</td>\n",
       "    </tr>\n",
       "    <tr>\n",
       "      <th>75%</th>\n",
       "      <td>85.940000</td>\n",
       "      <td>68.132500</td>\n",
       "      <td>68.447500</td>\n",
       "      <td>79.332500</td>\n",
       "      <td>51.090000</td>\n",
       "      <td>38.870000</td>\n",
       "      <td>73.740000</td>\n",
       "    </tr>\n",
       "    <tr>\n",
       "      <th>max</th>\n",
       "      <td>281.830000</td>\n",
       "      <td>100.000000</td>\n",
       "      <td>100.000000</td>\n",
       "      <td>99.890000</td>\n",
       "      <td>137.370000</td>\n",
       "      <td>100.000000</td>\n",
       "      <td>106.900000</td>\n",
       "    </tr>\n",
       "  </tbody>\n",
       "</table>\n",
       "</div>"
      ],
      "text/plain": [
       "       Purchasing Power Value  Safety Value  Health Care Value  Climate Value  \\\n",
       "count              236.000000    236.000000         236.000000     236.000000   \n",
       "mean                55.573305     55.274449          54.731568      37.598178   \n",
       "std                 52.008245     16.914298          20.607381      40.851542   \n",
       "min                  0.000000      0.000000           0.000000      -3.540000   \n",
       "25%                 16.340000     43.857500          45.807500       0.000000   \n",
       "50%                 42.930000     54.635000          57.150000       0.000000   \n",
       "75%                 85.940000     68.132500          68.447500      79.332500   \n",
       "max                281.830000    100.000000         100.000000      99.890000   \n",
       "\n",
       "       Cost of Living Value  Traffic Commute Time Value  Pollution Value  \n",
       "count            236.000000                  236.000000       236.000000  \n",
       "mean              37.526314                   28.492966        54.266186  \n",
       "std               26.026565                   17.347242        25.853695  \n",
       "min                0.000000                    0.000000         0.000000  \n",
       "25%               24.550000                   17.100000        35.700000  \n",
       "50%               36.895000                   29.845000        59.765000  \n",
       "75%               51.090000                   38.870000        73.740000  \n",
       "max              137.370000                  100.000000       106.900000  "
      ]
     },
     "execution_count": 231,
     "metadata": {},
     "output_type": "execute_result"
    }
   ],
   "source": [
    "df_Calidad_vida.describe()"
   ]
  },
  {
   "cell_type": "code",
   "execution_count": 232,
   "metadata": {},
   "outputs": [],
   "source": [
    "df_Calidad_vida[\"Climate Value\"]= df_Calidad_vida[\"Climate Value\"].abs()"
   ]
  },
  {
   "cell_type": "code",
   "execution_count": 233,
   "metadata": {},
   "outputs": [
    {
     "data": {
      "text/plain": [
       "0      False\n",
       "1      False\n",
       "2      False\n",
       "3      False\n",
       "4      False\n",
       "       ...  \n",
       "231    False\n",
       "232    False\n",
       "233    False\n",
       "234    False\n",
       "235    False\n",
       "Length: 236, dtype: bool"
      ]
     },
     "execution_count": 233,
     "metadata": {},
     "output_type": "execute_result"
    }
   ],
   "source": [
    "df_Calidad_vida.duplicated()"
   ]
  },
  {
   "cell_type": "code",
   "execution_count": 234,
   "metadata": {},
   "outputs": [],
   "source": [
    "#es la funcion donde pone el contienente a cada pais\n",
    "def get_continent(country_name):\n",
    "    try:\n",
    "        country_code = pc.country_name_to_country_alpha2(country_name, cn_name_format=\"default\")\n",
    "        continent_code = pc.country_alpha2_to_continent_code(country_code)\n",
    "        continent_map = {\n",
    "            \"AF\": \"Africa\",\n",
    "            \"AS\": \"Asia\",\n",
    "            \"EU\": \"Europe\",\n",
    "            \"NA\": \"North America\",\n",
    "            \"SA\": \"South America\",\n",
    "            \"OC\": \"Oceania\",\n",
    "            \"AN\": \"Antarctica\"\n",
    "        }\n",
    "        return continent_map.get(continent_code, \"Unknown\")\n",
    "    except:\n",
    "        return \"Unknown\"\n",
    "    \n",
    "#creamos una funcion que añada la nueva columna indicando el contienente\n",
    "def add_continent_column(df_Calidad_vida):\n",
    "    df_Calidad_vida[\"Continent\"] = df_Calidad_vida[\"country\"].apply(get_continent)\n",
    "    return df_Calidad_vida"
   ]
  },
  {
   "cell_type": "code",
   "execution_count": 235,
   "metadata": {},
   "outputs": [],
   "source": [
    "#Agregamos la columna de contienente a nuestro data frame\n",
    "df_Calidad_vida = add_continent_column(df_Calidad_vida)"
   ]
  },
  {
   "cell_type": "code",
   "execution_count": 236,
   "metadata": {},
   "outputs": [
    {
     "data": {
      "text/html": [
       "<div>\n",
       "<style scoped>\n",
       "    .dataframe tbody tr th:only-of-type {\n",
       "        vertical-align: middle;\n",
       "    }\n",
       "\n",
       "    .dataframe tbody tr th {\n",
       "        vertical-align: top;\n",
       "    }\n",
       "\n",
       "    .dataframe thead th {\n",
       "        text-align: right;\n",
       "    }\n",
       "</style>\n",
       "<table border=\"1\" class=\"dataframe\">\n",
       "  <thead>\n",
       "    <tr style=\"text-align: right;\">\n",
       "      <th></th>\n",
       "      <th>country</th>\n",
       "      <th>Purchasing Power Value</th>\n",
       "      <th>Purchasing Power Category</th>\n",
       "      <th>Safety Value</th>\n",
       "      <th>Safety Category</th>\n",
       "      <th>Health Care Value</th>\n",
       "      <th>Health Care Category</th>\n",
       "      <th>Climate Value</th>\n",
       "      <th>Climate Category</th>\n",
       "      <th>Cost of Living Value</th>\n",
       "      <th>Cost of Living Category</th>\n",
       "      <th>Property Price to Income Value</th>\n",
       "      <th>Property Price to Income Category</th>\n",
       "      <th>Traffic Commute Time Value</th>\n",
       "      <th>Traffic Commute Time Category</th>\n",
       "      <th>Pollution Value</th>\n",
       "      <th>Pollution Category</th>\n",
       "      <th>Quality of Life Value</th>\n",
       "      <th>Quality of Life Category</th>\n",
       "      <th>Continent</th>\n",
       "    </tr>\n",
       "  </thead>\n",
       "  <tbody>\n",
       "    <tr>\n",
       "      <th>0</th>\n",
       "      <td>Afghanistan</td>\n",
       "      <td>32.15</td>\n",
       "      <td>'Very Low'</td>\n",
       "      <td>25.33</td>\n",
       "      <td>'Low'</td>\n",
       "      <td>24.24</td>\n",
       "      <td>'Low'</td>\n",
       "      <td>0.00</td>\n",
       "      <td>Unknown</td>\n",
       "      <td>21.08</td>\n",
       "      <td>'Very Low'</td>\n",
       "      <td>7.8</td>\n",
       "      <td>'Low'</td>\n",
       "      <td>56.17</td>\n",
       "      <td>'Very High'</td>\n",
       "      <td>84.44</td>\n",
       "      <td>'Very High'</td>\n",
       "      <td>0.0</td>\n",
       "      <td>Unknown</td>\n",
       "      <td>Asia</td>\n",
       "    </tr>\n",
       "    <tr>\n",
       "      <th>1</th>\n",
       "      <td>Aland Islands</td>\n",
       "      <td>125.01</td>\n",
       "      <td>'Very High'</td>\n",
       "      <td>71.81</td>\n",
       "      <td>'High'</td>\n",
       "      <td>79.72</td>\n",
       "      <td>'High'</td>\n",
       "      <td>0.00</td>\n",
       "      <td>Unknown</td>\n",
       "      <td>53.44</td>\n",
       "      <td>'Low'</td>\n",
       "      <td>5.33</td>\n",
       "      <td>'Low'</td>\n",
       "      <td>19.05</td>\n",
       "      <td>'Very Low'</td>\n",
       "      <td>18.05</td>\n",
       "      <td>'Very Low'</td>\n",
       "      <td>0.0</td>\n",
       "      <td>Unknown</td>\n",
       "      <td>Unknown</td>\n",
       "    </tr>\n",
       "    <tr>\n",
       "      <th>2</th>\n",
       "      <td>Albania</td>\n",
       "      <td>42.82</td>\n",
       "      <td>'Low'</td>\n",
       "      <td>55.52</td>\n",
       "      <td>'Moderate'</td>\n",
       "      <td>48.21</td>\n",
       "      <td>'Moderate'</td>\n",
       "      <td>86.43</td>\n",
       "      <td>'Very High'</td>\n",
       "      <td>40.85</td>\n",
       "      <td>'Low'</td>\n",
       "      <td>14.88</td>\n",
       "      <td>'High'</td>\n",
       "      <td>36.74</td>\n",
       "      <td>'Moderate'</td>\n",
       "      <td>77.25</td>\n",
       "      <td>'High'</td>\n",
       "      <td>': 104.16'</td>\n",
       "      <td>'Low'</td>\n",
       "      <td>Europe</td>\n",
       "    </tr>\n",
       "    <tr>\n",
       "      <th>3</th>\n",
       "      <td>Alderney</td>\n",
       "      <td>0.00</td>\n",
       "      <td>Unknown</td>\n",
       "      <td>83.79</td>\n",
       "      <td>'Very High'</td>\n",
       "      <td>100.00</td>\n",
       "      <td>'Very High'</td>\n",
       "      <td>0.00</td>\n",
       "      <td>Unknown</td>\n",
       "      <td>0.00</td>\n",
       "      <td>Unknown</td>\n",
       "      <td>0.0</td>\n",
       "      <td>'Very High'</td>\n",
       "      <td>5.00</td>\n",
       "      <td>'Very Low'</td>\n",
       "      <td>1.72</td>\n",
       "      <td>'Very Low'</td>\n",
       "      <td>0.0</td>\n",
       "      <td>Unknown</td>\n",
       "      <td>Unknown</td>\n",
       "    </tr>\n",
       "    <tr>\n",
       "      <th>4</th>\n",
       "      <td>Algeria</td>\n",
       "      <td>27.60</td>\n",
       "      <td>'Very Low'</td>\n",
       "      <td>47.54</td>\n",
       "      <td>'Moderate'</td>\n",
       "      <td>54.43</td>\n",
       "      <td>'Moderate'</td>\n",
       "      <td>94.82</td>\n",
       "      <td>'Very High'</td>\n",
       "      <td>25.31</td>\n",
       "      <td>'Very Low'</td>\n",
       "      <td>21.7</td>\n",
       "      <td>'Very High'</td>\n",
       "      <td>45.09</td>\n",
       "      <td>'High'</td>\n",
       "      <td>63.87</td>\n",
       "      <td>'High'</td>\n",
       "      <td>': 98.83'</td>\n",
       "      <td>'Very Low'</td>\n",
       "      <td>Africa</td>\n",
       "    </tr>\n",
       "  </tbody>\n",
       "</table>\n",
       "</div>"
      ],
      "text/plain": [
       "         country  Purchasing Power Value Purchasing Power Category  \\\n",
       "0    Afghanistan                   32.15                'Very Low'   \n",
       "1  Aland Islands                  125.01               'Very High'   \n",
       "2        Albania                   42.82                     'Low'   \n",
       "3       Alderney                    0.00                   Unknown   \n",
       "4        Algeria                   27.60                'Very Low'   \n",
       "\n",
       "   Safety Value Safety Category  Health Care Value Health Care Category  \\\n",
       "0         25.33           'Low'              24.24                'Low'   \n",
       "1         71.81          'High'              79.72               'High'   \n",
       "2         55.52      'Moderate'              48.21           'Moderate'   \n",
       "3         83.79     'Very High'             100.00          'Very High'   \n",
       "4         47.54      'Moderate'              54.43           'Moderate'   \n",
       "\n",
       "   Climate Value Climate Category  Cost of Living Value  \\\n",
       "0           0.00          Unknown                 21.08   \n",
       "1           0.00          Unknown                 53.44   \n",
       "2          86.43      'Very High'                 40.85   \n",
       "3           0.00          Unknown                  0.00   \n",
       "4          94.82      'Very High'                 25.31   \n",
       "\n",
       "  Cost of Living Category Property Price to Income Value  \\\n",
       "0              'Very Low'                            7.8   \n",
       "1                   'Low'                           5.33   \n",
       "2                   'Low'                          14.88   \n",
       "3                 Unknown                            0.0   \n",
       "4              'Very Low'                           21.7   \n",
       "\n",
       "  Property Price to Income Category  Traffic Commute Time Value  \\\n",
       "0                             'Low'                       56.17   \n",
       "1                             'Low'                       19.05   \n",
       "2                            'High'                       36.74   \n",
       "3                       'Very High'                        5.00   \n",
       "4                       'Very High'                       45.09   \n",
       "\n",
       "  Traffic Commute Time Category  Pollution Value Pollution Category  \\\n",
       "0                   'Very High'            84.44        'Very High'   \n",
       "1                    'Very Low'            18.05         'Very Low'   \n",
       "2                    'Moderate'            77.25             'High'   \n",
       "3                    'Very Low'             1.72         'Very Low'   \n",
       "4                        'High'            63.87             'High'   \n",
       "\n",
       "  Quality of Life Value Quality of Life Category Continent  \n",
       "0                   0.0                  Unknown      Asia  \n",
       "1                   0.0                  Unknown   Unknown  \n",
       "2            ': 104.16'                    'Low'    Europe  \n",
       "3                   0.0                  Unknown   Unknown  \n",
       "4             ': 98.83'               'Very Low'    Africa  "
      ]
     },
     "execution_count": 236,
     "metadata": {},
     "output_type": "execute_result"
    }
   ],
   "source": [
    "df_Calidad_vida.head()"
   ]
  },
  {
   "cell_type": "code",
   "execution_count": 237,
   "metadata": {},
   "outputs": [
    {
     "data": {
      "text/plain": [
       "Continent\n",
       "Africa           53\n",
       "Asia             48\n",
       "Europe           46\n",
       "North America    30\n",
       "Unknown          24\n",
       "Oceania          21\n",
       "South America    14\n",
       "Name: count, dtype: int64"
      ]
     },
     "execution_count": 237,
     "metadata": {},
     "output_type": "execute_result"
    }
   ],
   "source": [
    "df_Calidad_vida[\"Continent\"].value_counts()"
   ]
  },
  {
   "cell_type": "code",
   "execution_count": 238,
   "metadata": {},
   "outputs": [],
   "source": [
    "df_nan_continente = df_Calidad_vida[df_Calidad_vida[\"Continent\"] == \"Unknown\"]\n",
    "lista_paises_sin_continente = df_nan_continente[\"country\"].tolist()"
   ]
  },
  {
   "cell_type": "code",
   "execution_count": 239,
   "metadata": {},
   "outputs": [
    {
     "data": {
      "text/plain": [
       "['Aland Islands',\n",
       " 'Alderney',\n",
       " 'Antigua And Barbuda',\n",
       " 'Bosnia And Herzegovina',\n",
       " 'Curacao',\n",
       " 'French Southern Territories',\n",
       " 'Hong Kong (China)',\n",
       " 'Isle Of Man',\n",
       " 'Kosovo (Disputed Territory)',\n",
       " 'Macao (China)',\n",
       " 'Reunion',\n",
       " 'Saint Helena',\n",
       " 'Saint Kitts And Nevis',\n",
       " 'Saint Vincent And The Grenadines',\n",
       " 'Saint-Pierre And Miquelon',\n",
       " 'Sao Tome And Principe',\n",
       " 'Sint Maarten',\n",
       " 'Timor-Leste',\n",
       " 'Trinidad And Tobago',\n",
       " 'Turks And Caicos Islands',\n",
       " 'Us Virgin Islands',\n",
       " 'Vatican City',\n",
       " 'Wallis And Futuna',\n",
       " 'Western Sahara']"
      ]
     },
     "execution_count": 239,
     "metadata": {},
     "output_type": "execute_result"
    }
   ],
   "source": [
    "lista_paises_sin_continente"
   ]
  },
  {
   "cell_type": "markdown",
   "metadata": {},
   "source": [
    "Continentes:\n",
    "Aland Islands – Europa\n",
    "Alderney – Europa\n",
    "Antigua and Barbuda – América (Caribe)\n",
    "Bosnia and Herzegovina – Europa\n",
    "Curacao – América (Caribe)\n",
    "French Southern Territories – Antártida (Territorio dependiente de Francia)\n",
    "Hong Kong (China) – Asia\n",
    "Isle of Man – Europa\n",
    "Kosovo (Disputed Territory) – Europa (Controversia política)\n",
    "Macao (China) – Asia\n",
    "Reunion – África (Territorio francés en el Océano Índico)\n",
    "Saint Helena – África (Territorio británico en el Atlántico sur)\n",
    "Saint Kitts and Nevis – América (Caribe)\n",
    "Saint Vincent and the Grenadines – América (Caribe)\n",
    "Saint-Pierre and Miquelon – América (Territorio francés en el Atlántico)\n",
    "Sao Tome and Principe – África\n",
    "Sint Maarten – América (Caribe)\n",
    "Timor-Leste – Asia\n",
    "Trinidad and Tobago – América (Caribe)\n",
    "Turks and Caicos Islands – América (Caribe)\n",
    "US Virgin Islands – América (Caribe, Territorio estadounidense)\n",
    "Vatican City – Europa\n",
    "Wallis and Futuna – Oceanía (Territorio francés en el Pacífico)\n",
    "Western Sahara – África (Disputa territorial con Marruecos, reconocido por algunos países como territorio independiente)"
   ]
  },
  {
   "cell_type": "code",
   "execution_count": 240,
   "metadata": {},
   "outputs": [],
   "source": [
    "# Diccionario con países y sus continentes en inglés\n",
    "\n",
    "continentes_dict = {\n",
    "    'Aland Islands': 'Europe',\n",
    "    'Alderney': 'Europe',\n",
    "    'Antigua And Barbuda': 'North America',  # Caribe, parte de América del Norte\n",
    "    'Bosnia And Herzegovina': 'Europe',\n",
    "    'Curacao': 'North America',  # Caribe, parte de América del Norte\n",
    "    'French Southern Territories': 'Antarctica',\n",
    "    'Hong Kong (China)': 'Asia',\n",
    "    'Isle Of Man': 'Europe',\n",
    "    'Kosovo (Disputed Territory)': 'Europe',\n",
    "    'Macao (China)': 'Asia',\n",
    "    'Reunion': 'Africa',\n",
    "    'Saint Helena': 'Africa',\n",
    "    'Saint Kitts And Nevis': 'North America',  # Caribe, parte de América del Norte\n",
    "    'Saint Vincent And The Grenadines': 'North America',  # Caribe, parte de América del Norte\n",
    "    'Saint-Pierre And Miquelon': 'North America',  # Caribe, parte de América del Norte\n",
    "    'Sao Tome And Principe': 'Africa',\n",
    "    'Sint Maarten': 'North America',  # Caribe, parte de América del Norte\n",
    "    'Timor-Leste': 'Asia',\n",
    "    'Trinidad And Tobago': 'South America',  # Caribe, pero más cerca de América del Sur\n",
    "    'Turks And Caicos Islands': 'North America',  # Caribe, parte de América del Norte\n",
    "    'Us Virgin Islands': 'North America',  # Caribe, parte de América del Norte\n",
    "    'Vatican City': 'Europe',\n",
    "    'Wallis And Futuna': 'Oceania',\n",
    "    'Western Sahara': 'Africa',\n",
    "}\n",
    "\n",
    "# Actualizar la columna 'Continent' en el DataFrame\n",
    "df_Calidad_vida['Continent'] = df_Calidad_vida['country'].map(continentes_dict).fillna(df_Calidad_vida['Continent'])\n"
   ]
  },
  {
   "cell_type": "code",
   "execution_count": 241,
   "metadata": {},
   "outputs": [
    {
     "data": {
      "text/plain": [
       "Continent\n",
       "Africa           57\n",
       "Europe           52\n",
       "Asia             51\n",
       "North America    38\n",
       "Oceania          22\n",
       "South America    15\n",
       "Antarctica        1\n",
       "Name: count, dtype: int64"
      ]
     },
     "execution_count": 241,
     "metadata": {},
     "output_type": "execute_result"
    }
   ],
   "source": [
    "df_Calidad_vida[\"Continent\"].value_counts()"
   ]
  },
  {
   "cell_type": "code",
   "execution_count": 242,
   "metadata": {},
   "outputs": [
    {
     "data": {
      "text/plain": [
       "[]"
      ]
     },
     "execution_count": 242,
     "metadata": {},
     "output_type": "execute_result"
    }
   ],
   "source": [
    "df_nan_continente = df_Calidad_vida[df_Calidad_vida[\"Continent\"] == \"Unknown\"]\n",
    "lista_paises_sin_continente = df_nan_continente[\"country\"].tolist()\n",
    "lista_paises_sin_continente \n"
   ]
  },
  {
   "cell_type": "code",
   "execution_count": 243,
   "metadata": {},
   "outputs": [],
   "source": [
    "df_Calidad_vida.to_csv(\".//files/Quality_of_Life_limpio.csv\", index=\"False\")"
   ]
  }
 ],
 "metadata": {
  "kernelspec": {
   "display_name": "Python 3",
   "language": "python",
   "name": "python3"
  },
  "language_info": {
   "codemirror_mode": {
    "name": "ipython",
    "version": 3
   },
   "file_extension": ".py",
   "mimetype": "text/x-python",
   "name": "python",
   "nbconvert_exporter": "python",
   "pygments_lexer": "ipython3",
   "version": "3.12.2"
  }
 },
 "nbformat": 4,
 "nbformat_minor": 2
}
